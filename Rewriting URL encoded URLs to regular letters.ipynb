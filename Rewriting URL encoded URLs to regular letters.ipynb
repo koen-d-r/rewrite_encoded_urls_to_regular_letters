{
 "cells": [
  {
   "cell_type": "code",
   "execution_count": 1,
   "id": "55624c49",
   "metadata": {},
   "outputs": [],
   "source": [
    "# import libraries\n",
    "import urllib.parse\n",
    "import unicodedata\n",
    "import sys"
   ]
  },
  {
   "cell_type": "markdown",
   "id": "2d8ceb00",
   "metadata": {},
   "source": [
    "### Unicode normalization\n",
    "\n",
    "In this notebook I'm cleaning URL encoded URL's to strings without any special characaters\n",
    "\n",
    "waldl%c3%a4ufer (URL encoded)\\\n",
    "becomes\\\n",
    "waldläufer (in Unicode)\\\n",
    "becomes\\\n",
    "waldlaufer (without ä and with a)"
   ]
  },
  {
   "cell_type": "code",
   "execution_count": 2,
   "id": "a8704add",
   "metadata": {},
   "outputs": [],
   "source": [
    "# url encoded \n",
    "test_url = '/veterschoenen/hoge-veterschoenen/waldl%c3%a4ufer-kitomi-bruin-croco-lak/6000055953c32.html'\n",
    "\n",
    "# decode url\n",
    "test_url = urllib.parse.unquote(test_url)\n",
    "\n",
    "# normalize unicode\n",
    "unicode_url = unicodedata.normalize('NFD', test_url)"
   ]
  },
  {
   "cell_type": "code",
   "execution_count": 3,
   "id": "32c2761c",
   "metadata": {},
   "outputs": [],
   "source": [
    "# create rewriting dictionary for replacing special characters ('ä') with 'a'\n",
    "# code from Python Cookbook\n",
    "# this dictionary contains all special characters and replaces that with None\n",
    "remap_dict = dict.fromkeys(c for c in range(sys.maxunicode) if unicodedata.combining(chr(c)))"
   ]
  },
  {
   "cell_type": "code",
   "execution_count": 4,
   "id": "32549859",
   "metadata": {},
   "outputs": [
    {
     "name": "stdout",
     "output_type": "stream",
     "text": [
      "/veterschoenen/hoge-veterschoenen/waldlaufer-kitomi-bruin-croco-lak/6000055953c32.html\n"
     ]
    }
   ],
   "source": [
    "final_result = unicode_url.translate(remap_dict)\n",
    "print(final_result)"
   ]
  }
 ],
 "metadata": {
  "kernelspec": {
   "display_name": "Python 3 (ipykernel)",
   "language": "python",
   "name": "python3"
  },
  "language_info": {
   "codemirror_mode": {
    "name": "ipython",
    "version": 3
   },
   "file_extension": ".py",
   "mimetype": "text/x-python",
   "name": "python",
   "nbconvert_exporter": "python",
   "pygments_lexer": "ipython3",
   "version": "3.9.7"
  }
 },
 "nbformat": 4,
 "nbformat_minor": 5
}
